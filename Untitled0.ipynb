{
  "nbformat": 4,
  "nbformat_minor": 0,
  "metadata": {
    "colab": {
      "provenance": []
    },
    "kernelspec": {
      "name": "python3",
      "display_name": "Python 3"
    },
    "language_info": {
      "name": "python"
    }
  },
  "cells": [
    {
      "cell_type": "code",
      "execution_count": null,
      "metadata": {
        "id": "73BbJAcqJisY"
      },
      "outputs": [],
      "source": [
        "#Given are 2 similar dimensional numpy arrays, how to get a numpy array output in which every element is an element-wise sum of the 2 numpy arrays?\n",
        "\n",
        "a = np.array([[1,2,3],\n",
        "              [4,5,6]])\n",
        "\n",
        "b = np.array([[10,11,12],\n",
        "              [13,14,15]])\n",
        "\n",
        "c = a + b\n",
        "\n",
        "print(c)\n",
        "\n",
        "Output\n",
        "[[11 13 15]\n",
        " [17 19 21]]"
      ]
    },
    {
      "cell_type": "code",
      "source": [
        "#Given a numpy array (matrix), how to get a numpy array output which is equal to the original matrix multiplied by a scalar?\n",
        "\n",
        "a = np.array([[1,2,3],\n",
        "              [4,5,6]])\n",
        "\n",
        "b = 2*a\n",
        "\n",
        "print(b)\n",
        "\n",
        "Output\n",
        "\n",
        "[[ 2  4  6]\n",
        " [ 8 10 12]]"
      ],
      "metadata": {
        "id": "Yk9sd3oRJ8K8"
      },
      "execution_count": null,
      "outputs": []
    },
    {
      "cell_type": "code",
      "source": [
        "#Create an identity matrix of dimension 4-by-4\n",
        "\n",
        "i = np.eye(4)\n",
        "\n",
        "print(i)\n",
        "\n",
        "Output\n",
        "\n",
        "[[1. 0. 0. 0.]\n",
        " [0. 1. 0. 0.]\n",
        " [0. 0. 1. 0.]\n",
        " [0. 0. 0. 1.]]"
      ],
      "metadata": {
        "id": "NmyOfxbXKPbk"
      },
      "execution_count": null,
      "outputs": []
    },
    {
      "cell_type": "code",
      "source": [
        "#Convert a 1-D array to a 3-D array\n",
        "\n",
        "a = np.range(0,27)\n",
        "\n",
        "o = a.reshape((3,3,3))\n",
        "\n",
        "print(o)\n",
        "\n",
        "\n",
        "Corrresponding Output\n",
        "\n",
        "[[[ 0  1  2]\n",
        "  [ 3  4  5]\n",
        "  [ 6  7  8]]\n",
        "\n",
        " [[ 9 10 11]\n",
        "  [12 13 14]\n",
        "  [15 16 17]]\n",
        "\n",
        " [[18 19 20]\n",
        "  [21 22 23]\n",
        "  [24 25 26]]]"
      ],
      "metadata": {
        "id": "8xo4iwLGKhZ6"
      },
      "execution_count": null,
      "outputs": []
    },
    {
      "cell_type": "code",
      "source": [
        "# Convert all the elements of a numpy array from float to integer datatype.\n",
        "a = ny.ones((3,3,3),dtype=\"int\")\n",
        "\n",
        "print(a)\n",
        "\n",
        "output\n",
        "\n",
        "[[[1 1 1]\n",
        "  [1 1 1]\n",
        "  [1 1 1]]\n",
        "\n",
        " [[1 1 1]\n",
        "  [1 1 1]\n",
        "  [1 1 1]]\n",
        "\n",
        " [[1 1 1]\n",
        "  [1 1 1]\n",
        "  [1 1 1]]]\n"
      ],
      "metadata": {
        "id": "YviFGAh5LZL9"
      },
      "execution_count": null,
      "outputs": []
    },
    {
      "cell_type": "code",
      "source": [
        "#Convert a binary numpy array (containing only 0s and 1s) to a boolean numpy array\n",
        "\n",
        "a = np.array([[1, 0, 0],\n",
        "              [1, 1, 1],\n",
        "              [0, 0, 0]],dtype=\"bool\")\n",
        "\n",
        "print(a)\n",
        "\n",
        "Output\n",
        "\n",
        "[[ True False False]\n",
        " [ True  True  True]\n",
        " [False False False]]"
      ],
      "metadata": {
        "id": "dWNcrDWyLgei"
      },
      "execution_count": null,
      "outputs": []
    }
  ]
}