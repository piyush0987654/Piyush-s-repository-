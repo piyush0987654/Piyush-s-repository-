{
  "nbformat": 4,
  "nbformat_minor": 0,
  "metadata": {
    "colab": {
      "provenance": []
    },
    "kernelspec": {
      "name": "python3",
      "display_name": "Python 3"
    },
    "language_info": {
      "name": "python"
    }
  },
  "cells": [
    {
      "cell_type": "code",
      "execution_count": null,
      "metadata": {
        "id": "A1oXbC1g4pLx"
      },
      "outputs": [],
      "source": [
        "import csv"
      ]
    },
    {
      "cell_type": "code",
      "source": [
        "import numpy as np"
      ],
      "metadata": {
        "id": "m-HfNSN84uPL"
      },
      "execution_count": null,
      "outputs": []
    },
    {
      "cell_type": "code",
      "source": [
        "data = []\n",
        "\n",
        "with open(r\"/content/MER_T07_02A-2020-02-03 (5).csv\", 'r') as csvfile:\n",
        "  file_reader = csv.reader(csvfile, delimiter=',')\n",
        "  for row in file_reader:\n",
        "    data.append(row)\n",
        "\n",
        "data = np.array(data)\n",
        "data\n"
      ],
      "metadata": {
        "colab": {
          "base_uri": "https://localhost:8080/"
        },
        "id": "iGOAl5Rl4y3k",
        "outputId": "aafe4d91-5829-4fd7-c5c4-fff0c7565f07"
      },
      "execution_count": null,
      "outputs": [
        {
          "output_type": "execute_result",
          "data": {
            "text/plain": [
              "array([['MSN', 'YYYYMM', 'Value', 'Column_Order', 'Description', 'Unit'],\n",
              "       ['CLETPUS', '194913', '135451.32', '1',\n",
              "        'Electricity Net Generation From Coal, All Sectors',\n",
              "        'Million Kilowatthours'],\n",
              "       ['CLETPUS', '195013', '154519.994', '1',\n",
              "        'Electricity Net Generation From Coal, All Sectors',\n",
              "        'Million Kilowatthours'],\n",
              "       ...,\n",
              "       ['ELETPUS', '201908', '401363.186', '13',\n",
              "        'Electricity Net Generation Total (including from sources not shown), All Sectors',\n",
              "        'Million Kilowatthours'],\n",
              "       ['ELETPUS', '201909', '359300.603', '13',\n",
              "        'Electricity Net Generation Total (including from sources not shown), All Sectors',\n",
              "        'Million Kilowatthours'],\n",
              "       ['ELETPUS', '201910', '321921.812', '13',\n",
              "        'Electricity Net Generation Total (including from sources not shown), All Sectors',\n",
              "        'Million Kilowatthours']], dtype='<U80')"
            ]
          },
          "metadata": {},
          "execution_count": 3
        }
      ]
    },
    {
      "cell_type": "code",
      "source": [
        "first4 = data[:10, 3]\n",
        "first4"
      ],
      "metadata": {
        "colab": {
          "base_uri": "https://localhost:8080/"
        },
        "id": "h9k_z8_C4_As",
        "outputId": "b5b827e0-3936-401d-f02b-51e3df1e72f7"
      },
      "execution_count": null,
      "outputs": [
        {
          "output_type": "execute_result",
          "data": {
            "text/plain": [
              "array(['Column_Order', '1', '1', '1', '1', '1', '1', '1', '1', '1'],\n",
              "      dtype='<U80')"
            ]
          },
          "metadata": {},
          "execution_count": 4
        }
      ]
    },
    {
      "cell_type": "code",
      "source": [
        "'the first row'"
      ],
      "metadata": {
        "id": "AF118IgS5FiB"
      },
      "execution_count": null,
      "outputs": []
    },
    {
      "cell_type": "code",
      "source": [
        "row1to20 = data[1:21, 1:3]\n",
        "row1to20"
      ],
      "metadata": {
        "colab": {
          "base_uri": "https://localhost:8080/"
        },
        "id": "_6bcT0ix5xRu",
        "outputId": "3bb6b9a3-e80e-4e01-ed2c-56d40f4bb054"
      },
      "execution_count": null,
      "outputs": [
        {
          "output_type": "execute_result",
          "data": {
            "text/plain": [
              "array([['194913', '135451.32'],\n",
              "       ['195013', '154519.994'],\n",
              "       ['195113', '185203.657'],\n",
              "       ['195213', '195436.666'],\n",
              "       ['195313', '218846.325'],\n",
              "       ['195413', '239145.966'],\n",
              "       ['195513', '301362.698'],\n",
              "       ['195613', '338503.484'],\n",
              "       ['195713', '346386.207'],\n",
              "       ['195813', '344365.781'],\n",
              "       ['195913', '378424.21'],\n",
              "       ['196013', '403067.357'],\n",
              "       ['196113', '421870.669'],\n",
              "       ['196213', '450249.238'],\n",
              "       ['196313', '493926.719'],\n",
              "       ['196413', '526230.019'],\n",
              "       ['196513', '570925.951'],\n",
              "       ['196613', '613474.8'],\n",
              "       ['196713', '630483.363'],\n",
              "       ['196813', '684904.58']], dtype='<U80')"
            ]
          },
          "metadata": {},
          "execution_count": 5
        }
      ]
    },
    {
      "cell_type": "code",
      "source": [
        "seclected_row = data[:3, :], data[-3:, :])\n",
        "seclected_row"
      ],
      "metadata": {
        "colab": {
          "base_uri": "https://localhost:8080/",
          "height": 145
        },
        "id": "hEUAUv436jJG",
        "outputId": "aa28df31-c32c-44a4-c972-2d76162ee476"
      },
      "execution_count": null,
      "outputs": [
        {
          "output_type": "error",
          "ename": "SyntaxError",
          "evalue": "unmatched ')' (<ipython-input-8-930ac0c75a42>, line 1)",
          "traceback": [
            "\u001b[0;36m  File \u001b[0;32m\"<ipython-input-8-930ac0c75a42>\"\u001b[0;36m, line \u001b[0;32m1\u001b[0m\n\u001b[0;31m    seclected_row = data[:3, :], data[-3:, :])\u001b[0m\n\u001b[0m                                             ^\u001b[0m\n\u001b[0;31mSyntaxError\u001b[0m\u001b[0;31m:\u001b[0m unmatched ')'\n"
          ]
        }
      ]
    },
    {
      "cell_type": "code",
      "source": [
        "unique_sources = np.unique(data[:, 4])\n",
        "\n",
        "for source in unique_sources:\n",
        "  source\n",
        "\n",
        "source"
      ],
      "metadata": {
        "colab": {
          "base_uri": "https://localhost:8080/",
          "height": 36
        },
        "id": "0gUup9AL7QSW",
        "outputId": "643b3ea8-7747-47b8-af28-7ae2b8df13c7"
      },
      "execution_count": null,
      "outputs": [
        {
          "output_type": "execute_result",
          "data": {
            "text/plain": [
              "'Electricity Net Generation Total (including from sources not shown), All Sectors'"
            ],
            "application/vnd.google.colaboratory.intrinsic+json": {
              "type": "string"
            }
          },
          "metadata": {},
          "execution_count": 15
        }
      ]
    },
    {
      "cell_type": "code",
      "source": [
        "wind_energy_mask = data[:, 4]\n",
        "wind = data[wind_energy_mask]\n",
        "wind\n"
      ],
      "metadata": {
        "colab": {
          "base_uri": "https://localhost:8080/",
          "height": 219
        },
        "id": "NYhl7OlS-O7p",
        "outputId": "e19f3820-c349-4d57-9991-6b7350ad4024"
      },
      "execution_count": null,
      "outputs": [
        {
          "output_type": "error",
          "ename": "IndexError",
          "evalue": "arrays used as indices must be of integer (or boolean) type",
          "traceback": [
            "\u001b[0;31m---------------------------------------------------------------------------\u001b[0m",
            "\u001b[0;31mIndexError\u001b[0m                                Traceback (most recent call last)",
            "\u001b[0;32m<ipython-input-16-9e76b43c2ea3>\u001b[0m in \u001b[0;36m<cell line: 2>\u001b[0;34m()\u001b[0m\n\u001b[1;32m      1\u001b[0m \u001b[0mwind_energy_mask\u001b[0m \u001b[0;34m=\u001b[0m \u001b[0mdata\u001b[0m\u001b[0;34m[\u001b[0m\u001b[0;34m:\u001b[0m\u001b[0;34m,\u001b[0m \u001b[0;36m4\u001b[0m\u001b[0;34m]\u001b[0m\u001b[0;34m\u001b[0m\u001b[0;34m\u001b[0m\u001b[0m\n\u001b[0;32m----> 2\u001b[0;31m \u001b[0mwind\u001b[0m \u001b[0;34m=\u001b[0m \u001b[0mdata\u001b[0m\u001b[0;34m[\u001b[0m\u001b[0mwind_energy_mask\u001b[0m\u001b[0;34m]\u001b[0m\u001b[0;34m\u001b[0m\u001b[0;34m\u001b[0m\u001b[0m\n\u001b[0m\u001b[1;32m      3\u001b[0m \u001b[0mwind\u001b[0m\u001b[0;34m\u001b[0m\u001b[0;34m\u001b[0m\u001b[0m\n",
            "\u001b[0;31mIndexError\u001b[0m: arrays used as indices must be of integer (or boolean) type"
          ]
        }
      ]
    },
    {
      "cell_type": "code",
      "source": [
        "annual_data_mask = data[:, 1].astype(int) % 100 == 13\n",
        "annual_data = data[annual_data_mask]\n",
        "\n",
        "max_energy_row = annual_data[np.argmax(annual_data[:, 2].astype(float))]\n",
        "\n",
        "max__source = max_row[0]\n",
        "max_year = max_row[1]\n",
        "max_value = max_row[2]\n",
        "\n",
        "print(f\"Maximum annual energy generated details:\")\n",
        "print(f\"Source: {max_source}\")\n",
        "print(f\"Year: {max_year}\")\n",
        "print(f\"Value: {max_value} Million Kilowatthours\")"
      ],
      "metadata": {
        "colab": {
          "base_uri": "https://localhost:8080/",
          "height": 256
        },
        "id": "p5aCk09WBzEF",
        "outputId": "f4e2ad45-70bb-40fd-dea0-73bee593a817"
      },
      "execution_count": null,
      "outputs": [
        {
          "output_type": "error",
          "ename": "ValueError",
          "evalue": "invalid literal for int() with base 10: 'YYYYMM'",
          "traceback": [
            "\u001b[0;31m---------------------------------------------------------------------------\u001b[0m",
            "\u001b[0;31mValueError\u001b[0m                                Traceback (most recent call last)",
            "\u001b[0;32m<ipython-input-17-c4aae82ad49b>\u001b[0m in \u001b[0;36m<cell line: 1>\u001b[0;34m()\u001b[0m\n\u001b[0;32m----> 1\u001b[0;31m \u001b[0mannual_data_mask\u001b[0m \u001b[0;34m=\u001b[0m \u001b[0mdata\u001b[0m\u001b[0;34m[\u001b[0m\u001b[0;34m:\u001b[0m\u001b[0;34m,\u001b[0m \u001b[0;36m1\u001b[0m\u001b[0;34m]\u001b[0m\u001b[0;34m.\u001b[0m\u001b[0mastype\u001b[0m\u001b[0;34m(\u001b[0m\u001b[0mint\u001b[0m\u001b[0;34m)\u001b[0m \u001b[0;34m%\u001b[0m \u001b[0;36m100\u001b[0m \u001b[0;34m==\u001b[0m \u001b[0;36m13\u001b[0m\u001b[0;34m\u001b[0m\u001b[0;34m\u001b[0m\u001b[0m\n\u001b[0m\u001b[1;32m      2\u001b[0m \u001b[0mannual_data\u001b[0m \u001b[0;34m=\u001b[0m \u001b[0mdata\u001b[0m\u001b[0;34m[\u001b[0m\u001b[0mannual_data_mask\u001b[0m\u001b[0;34m]\u001b[0m\u001b[0;34m\u001b[0m\u001b[0;34m\u001b[0m\u001b[0m\n\u001b[1;32m      3\u001b[0m \u001b[0;34m\u001b[0m\u001b[0m\n\u001b[1;32m      4\u001b[0m \u001b[0mmax_energy_row\u001b[0m \u001b[0;34m=\u001b[0m \u001b[0mannual_data\u001b[0m\u001b[0;34m[\u001b[0m\u001b[0mnp\u001b[0m\u001b[0;34m.\u001b[0m\u001b[0margmax\u001b[0m\u001b[0;34m(\u001b[0m\u001b[0mannual_data\u001b[0m\u001b[0;34m[\u001b[0m\u001b[0;34m:\u001b[0m\u001b[0;34m,\u001b[0m \u001b[0;36m2\u001b[0m\u001b[0;34m]\u001b[0m\u001b[0;34m.\u001b[0m\u001b[0mastype\u001b[0m\u001b[0;34m(\u001b[0m\u001b[0mfloat\u001b[0m\u001b[0;34m)\u001b[0m\u001b[0;34m)\u001b[0m\u001b[0;34m]\u001b[0m\u001b[0;34m\u001b[0m\u001b[0;34m\u001b[0m\u001b[0m\n\u001b[1;32m      5\u001b[0m \u001b[0;34m\u001b[0m\u001b[0m\n",
            "\u001b[0;31mValueError\u001b[0m: invalid literal for int() with base 10: 'YYYYMM'"
          ]
        }
      ]
    },
    {
      "cell_type": "code",
      "source": [],
      "metadata": {
        "id": "--A42F_OBzYC"
      },
      "execution_count": null,
      "outputs": []
    }
  ]
}