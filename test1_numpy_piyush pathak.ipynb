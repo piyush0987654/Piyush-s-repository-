{
  "nbformat": 4,
  "nbformat_minor": 0,
  "metadata": {
    "colab": {
      "provenance": []
    },
    "kernelspec": {
      "name": "python3",
      "display_name": "Python 3"
    },
    "language_info": {
      "name": "python"
    }
  },
  "cells": [
    {
      "cell_type": "code",
      "source": [
        "import numpy as np"
      ],
      "metadata": {
        "id": "Hw2rj3DSuwgd"
      },
      "execution_count": 17,
      "outputs": []
    },
    {
      "cell_type": "code",
      "execution_count": 50,
      "metadata": {
        "colab": {
          "base_uri": "https://localhost:8080/"
        },
        "id": "OVqHpYpuqdVV",
        "outputId": "6f70ea76-cb14-4b64-d222-ffcf91b055dd"
      },
      "outputs": [
        {
          "output_type": "execute_result",
          "data": {
            "text/plain": [
              "array([0, 1, 2, 3, 4, 5, 6, 7, 8, 9])"
            ]
          },
          "metadata": {},
          "execution_count": 50
        }
      ],
      "source": [
        "array = np.arange(10)\n",
        "array\n"
      ]
    },
    {
      "cell_type": "code",
      "source": [
        "odd = [num for num in array if num % 2 != 0]\n",
        "odd"
      ],
      "metadata": {
        "colab": {
          "base_uri": "https://localhost:8080/"
        },
        "id": "4NWISV7-rkhG",
        "outputId": "a671722b-e48d-487a-8236-0c9309a3d11e"
      },
      "execution_count": 3,
      "outputs": [
        {
          "output_type": "execute_result",
          "data": {
            "text/plain": [
              "[1, 3, 5, 7, 9]"
            ]
          },
          "metadata": {},
          "execution_count": 3
        }
      ]
    },
    {
      "cell_type": "code",
      "source": [
        "replace = [100 if num % 2 != 0 else num for num in array]\n",
        "replace"
      ],
      "metadata": {
        "colab": {
          "base_uri": "https://localhost:8080/"
        },
        "id": "fZXtC962r0bL",
        "outputId": "cd7ea55f-8828-4fe3-94f6-417c49684656"
      },
      "execution_count": 8,
      "outputs": [
        {
          "output_type": "execute_result",
          "data": {
            "text/plain": [
              "[0, 100, 2, 100, 4, 100, 6, 100, 8, 100]"
            ]
          },
          "metadata": {},
          "execution_count": 8
        }
      ]
    },
    {
      "cell_type": "code",
      "source": [
        "replace_1 = [-1 if num % 2 != 0 else num for num in array]\n",
        "replace_1"
      ],
      "metadata": {
        "colab": {
          "base_uri": "https://localhost:8080/"
        },
        "id": "-BP2yivds9Ii",
        "outputId": "1bfcd725-7e6f-43fe-a636-fbe48469823e"
      },
      "execution_count": 10,
      "outputs": [
        {
          "output_type": "execute_result",
          "data": {
            "text/plain": [
              "[0, -1, 2, -1, 4, -1, 6, -1, 8, -1]"
            ]
          },
          "metadata": {},
          "execution_count": 10
        }
      ]
    },
    {
      "cell_type": "code",
      "source": [
        "array1 = np.array([1, 2, 3, 4, 5, 6, 7, 8])\n",
        "array2 = array1.reshape(2, -1)\n",
        "array2\n"
      ],
      "metadata": {
        "colab": {
          "base_uri": "https://localhost:8080/"
        },
        "id": "jbE8TrXrtlEA",
        "outputId": "fdb3200f-cf62-46d5-9a49-85ad527049e3"
      },
      "execution_count": 21,
      "outputs": [
        {
          "output_type": "execute_result",
          "data": {
            "text/plain": [
              "array([[1, 2, 3, 4],\n",
              "       [5, 6, 7, 8]])"
            ]
          },
          "metadata": {},
          "execution_count": 21
        }
      ]
    },
    {
      "cell_type": "code",
      "source": [
        "A = np.array([2, 6, 1, 9, 10, 3, 27])\n",
        "B = A[(A >= 5) & (A <= 10)]\n",
        "B\n"
      ],
      "metadata": {
        "colab": {
          "base_uri": "https://localhost:8080/"
        },
        "id": "c1zR5n9Qvl8l",
        "outputId": "a39c4db4-1bfa-4c7b-f672-6aa7191c8b90"
      },
      "execution_count": 19,
      "outputs": [
        {
          "output_type": "execute_result",
          "data": {
            "text/plain": [
              "array([ 6,  9, 10])"
            ]
          },
          "metadata": {},
          "execution_count": 19
        }
      ]
    },
    {
      "cell_type": "code",
      "source": [
        "array2 = np.array([[1, 2, 3],\n",
        "                      [4, 5, 6],\n",
        "                      [7, 8, 9]])\n",
        "\n",
        "b = array2.reverse()\n",
        "b"
      ],
      "metadata": {
        "colab": {
          "base_uri": "https://localhost:8080/",
          "height": 227
        },
        "id": "0bAc0Lp6wFgO",
        "outputId": "99f33aed-8bc1-47bd-cb43-536856c9cdfd"
      },
      "execution_count": 22,
      "outputs": [
        {
          "output_type": "error",
          "ename": "AttributeError",
          "evalue": "ignored",
          "traceback": [
            "\u001b[0;31m---------------------------------------------------------------------------\u001b[0m",
            "\u001b[0;31mAttributeError\u001b[0m                            Traceback (most recent call last)",
            "\u001b[0;32m<ipython-input-22-29939723b7ff>\u001b[0m in \u001b[0;36m<cell line: 5>\u001b[0;34m()\u001b[0m\n\u001b[1;32m      3\u001b[0m                       [7, 8, 9]])\n\u001b[1;32m      4\u001b[0m \u001b[0;34m\u001b[0m\u001b[0m\n\u001b[0;32m----> 5\u001b[0;31m \u001b[0mb\u001b[0m \u001b[0;34m=\u001b[0m \u001b[0marray2\u001b[0m\u001b[0;34m.\u001b[0m\u001b[0mreverse\u001b[0m\u001b[0;34m(\u001b[0m\u001b[0;34m)\u001b[0m\u001b[0;34m\u001b[0m\u001b[0;34m\u001b[0m\u001b[0m\n\u001b[0m\u001b[1;32m      6\u001b[0m \u001b[0mb\u001b[0m\u001b[0;34m\u001b[0m\u001b[0;34m\u001b[0m\u001b[0m\n",
            "\u001b[0;31mAttributeError\u001b[0m: 'numpy.ndarray' object has no attribute 'reverse'"
          ]
        }
      ]
    },
    {
      "cell_type": "code",
      "source": [
        "rand_arr = np.random.uniform(5, 10, size=(5, 3))\n",
        "\n",
        "rand_arr\n"
      ],
      "metadata": {
        "colab": {
          "base_uri": "https://localhost:8080/"
        },
        "id": "82O3ETUmw5ip",
        "outputId": "bdf51b78-8bab-4b94-b9d0-4b4def66e3ec"
      },
      "execution_count": 28,
      "outputs": [
        {
          "output_type": "execute_result",
          "data": {
            "text/plain": [
              "array([[8.325558  , 9.90889695, 5.18035836],\n",
              "       [5.54754246, 7.86251671, 8.46140045],\n",
              "       [9.24983937, 5.22510582, 9.30227939],\n",
              "       [9.67715832, 7.48349639, 9.16690013],\n",
              "       [5.30944685, 9.32693633, 6.25272057]])"
            ]
          },
          "metadata": {},
          "execution_count": 28
        }
      ]
    },
    {
      "cell_type": "code",
      "source": [
        "mean = np.mean(rand_arr)\n",
        "mean"
      ],
      "metadata": {
        "colab": {
          "base_uri": "https://localhost:8080/"
        },
        "id": "XOHxcY8FxxZD",
        "outputId": "d57a0c65-4e38-4356-e186-e246609d17d4"
      },
      "execution_count": 29,
      "outputs": [
        {
          "output_type": "execute_result",
          "data": {
            "text/plain": [
              "1.7219425736798617"
            ]
          },
          "metadata": {},
          "execution_count": 29
        }
      ]
    },
    {
      "cell_type": "code",
      "source": [
        "median = np.median(rand_arr)\n",
        "median"
      ],
      "metadata": {
        "colab": {
          "base_uri": "https://localhost:8080/"
        },
        "id": "joDN_NSwx-Ct",
        "outputId": "1b5c455a-2a2c-4f7f-c63f-44bfb7273b07"
      },
      "execution_count": 30,
      "outputs": [
        {
          "output_type": "execute_result",
          "data": {
            "text/plain": [
              "8.325558001510043"
            ]
          },
          "metadata": {},
          "execution_count": 30
        }
      ]
    },
    {
      "cell_type": "code",
      "source": [
        "sd = np.std(rand_arr)\n",
        "sd"
      ],
      "metadata": {
        "colab": {
          "base_uri": "https://localhost:8080/"
        },
        "id": "0LGNO-siyEAq",
        "outputId": "64672f23-d01c-468d-8b39-0d40665cabd3"
      },
      "execution_count": 31,
      "outputs": [
        {
          "output_type": "execute_result",
          "data": {
            "text/plain": [
              "1.7219425736798617"
            ]
          },
          "metadata": {},
          "execution_count": 31
        }
      ]
    },
    {
      "cell_type": "code",
      "source": [
        "scores = np.array([\n",
        "    [80, 90, 92, 88],\n",
        "    [85, 97, 90, 87],\n",
        "    [82, 83, 87, 81]\n",
        "])\n",
        "\n",
        "\n",
        "    subject_scores = scores[:, i]\n",
        "    fifth_percentile = np.percentile(subject_scores, 5)\n",
        "    ninetyfifth_percentile = np.percentile(subject_scores, 95)\n",
        "    f\"For {subject}: 5th percentile = {fifth_percentile}, 95th percentile = {ninetyfifth_percentile}\"\n"
      ],
      "metadata": {
        "colab": {
          "base_uri": "https://localhost:8080/",
          "height": 140
        },
        "id": "loz6vMhyyxp9",
        "outputId": "64ee11d1-898f-4b96-bc00-da2441183209"
      },
      "execution_count": 34,
      "outputs": [
        {
          "output_type": "error",
          "ename": "IndentationError",
          "evalue": "ignored",
          "traceback": [
            "\u001b[0;36m  File \u001b[0;32m\"<ipython-input-34-8e12d26cf341>\"\u001b[0;36m, line \u001b[0;32m8\u001b[0m\n\u001b[0;31m    subject_scores = scores[:, i]\u001b[0m\n\u001b[0m    ^\u001b[0m\n\u001b[0;31mIndentationError\u001b[0m\u001b[0;31m:\u001b[0m unexpected indent\n"
          ]
        }
      ]
    },
    {
      "cell_type": "code",
      "source": [
        "all_scores = np.unique(scores.flatten())\n",
        "sorted_scores = np.sort(all_scores)\n",
        "second_highest = sorted_scores[-2]\n",
        "\n",
        "second_highest\n"
      ],
      "metadata": {
        "colab": {
          "base_uri": "https://localhost:8080/"
        },
        "id": "uWBUbe1l0bBy",
        "outputId": "cef86e11-99b1-4aed-cfed-5de1073563b0"
      },
      "execution_count": 38,
      "outputs": [
        {
          "output_type": "execute_result",
          "data": {
            "text/plain": [
              "92"
            ]
          },
          "metadata": {},
          "execution_count": 38
        }
      ]
    },
    {
      "cell_type": "code",
      "source": [
        "np.random.seed(100)\n",
        "A = np.random.uniform(1, 50, 20)\n",
        "\n",
        "A = np.clip(A, 10, 30)\n",
        "A\n"
      ],
      "metadata": {
        "colab": {
          "base_uri": "https://localhost:8080/"
        },
        "id": "4F2IbE4x1QOV",
        "outputId": "e39fa871-9ab6-46dd-86ac-a92b69a018aa"
      },
      "execution_count": 40,
      "outputs": [
        {
          "output_type": "execute_result",
          "data": {
            "text/plain": [
              "array([27.62684215, 14.64009987, 21.80136195, 30.        , 10.        ,\n",
              "       10.        , 30.        , 30.        , 10.        , 29.17957314,\n",
              "       30.        , 11.25090398, 10.08108276, 10.        , 11.76517714,\n",
              "       30.        , 30.        , 10.        , 30.        , 14.42961361])"
            ]
          },
          "metadata": {},
          "execution_count": 40
        }
      ]
    },
    {
      "cell_type": "code",
      "source": [
        "array_of_arrays = np.array([[1, 2, 3], [4, 5, 6], [7, 8, 9]])\n",
        "\n",
        "flat_array = array_of_arrays.flatten()\n",
        "flat_array"
      ],
      "metadata": {
        "colab": {
          "base_uri": "https://localhost:8080/"
        },
        "id": "2e63G3Y82QnX",
        "outputId": "a9c1b37d-8633-4730-d97d-ea923e8fd3c2"
      },
      "execution_count": 41,
      "outputs": [
        {
          "output_type": "execute_result",
          "data": {
            "text/plain": [
              "array([1, 2, 3, 4, 5, 6, 7, 8, 9])"
            ]
          },
          "metadata": {},
          "execution_count": 41
        }
      ]
    },
    {
      "cell_type": "code",
      "source": [
        "np.random.seed(100)\n",
        "A = np.random.randint(1, 10, [5, 3])\n",
        "A"
      ],
      "metadata": {
        "colab": {
          "base_uri": "https://localhost:8080/"
        },
        "id": "Sq-J_iTM25wc",
        "outputId": "4dbc9d75-8196-466d-d164-6f933c67f8a0"
      },
      "execution_count": 42,
      "outputs": [
        {
          "output_type": "execute_result",
          "data": {
            "text/plain": [
              "array([[9, 9, 4],\n",
              "       [8, 8, 1],\n",
              "       [5, 3, 6],\n",
              "       [3, 3, 3],\n",
              "       [2, 1, 9]])"
            ]
          },
          "metadata": {},
          "execution_count": 42
        }
      ]
    },
    {
      "cell_type": "code",
      "source": [
        "max = np.max(A, 1)\n",
        "\n",
        "max"
      ],
      "metadata": {
        "colab": {
          "base_uri": "https://localhost:8080/"
        },
        "id": "meV71sw13BFa",
        "outputId": "dd644de2-b64e-4fcc-d838-d5c50eb8541b"
      },
      "execution_count": 44,
      "outputs": [
        {
          "output_type": "execute_result",
          "data": {
            "text/plain": [
              "array([9, 8, 6, 3, 9])"
            ]
          },
          "metadata": {},
          "execution_count": 44
        }
      ]
    },
    {
      "cell_type": "code",
      "source": [
        "array = np.arange(5, 5 + 3 * 10, 3)\n",
        "array"
      ],
      "metadata": {
        "colab": {
          "base_uri": "https://localhost:8080/"
        },
        "id": "1D0C1Ury3N-x",
        "outputId": "aab6ce0b-8bbc-42ef-f698-ddcf9cc1dd9c"
      },
      "execution_count": 45,
      "outputs": [
        {
          "output_type": "execute_result",
          "data": {
            "text/plain": [
              "array([ 5,  8, 11, 14, 17, 20, 23, 26, 29, 32])"
            ]
          },
          "metadata": {},
          "execution_count": 45
        }
      ]
    },
    {
      "cell_type": "code",
      "source": [
        "array = np.array([[1, 3, 5, 7],\n",
        "                   [9, 11, 13, 15],\n",
        "                   [2, 4, 6, 8]])\n",
        "\n",
        "slicee = array[0:2, 0:2]\n",
        "slicee"
      ],
      "metadata": {
        "colab": {
          "base_uri": "https://localhost:8080/"
        },
        "id": "BBFE_mYN3tV-",
        "outputId": "d02a44b7-f62d-4ae1-edc2-9edfcdeb9e19"
      },
      "execution_count": 49,
      "outputs": [
        {
          "output_type": "execute_result",
          "data": {
            "text/plain": [
              "array([[ 1,  3],\n",
              "       [ 9, 11]])"
            ]
          },
          "metadata": {},
          "execution_count": 49
        }
      ]
    }
  ]
}